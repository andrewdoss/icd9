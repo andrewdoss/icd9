{
 "cells": [
  {
   "cell_type": "code",
   "execution_count": 43,
   "metadata": {},
   "outputs": [],
   "source": [
    "import numpy as np\n",
    "import pandas as pd\n",
    "import sys\n",
    "import os\n",
    "from collections import defaultdict"
   ]
  },
  {
   "cell_type": "code",
   "execution_count": 2,
   "metadata": {},
   "outputs": [],
   "source": [
    "icd9_tree_path = '../icd9-tree/'\n",
    "sys.path.append(icd9_tree_path)\n",
    "from icd9 import ICD9\n",
    "# feel free to replace with your path to the json file\n",
    "tree = ICD9(os.path.join(icd9_tree_path,'codes.json'))"
   ]
  },
  {
   "cell_type": "markdown",
   "metadata": {},
   "source": [
    "This builds an index from ICD-9 codes to the records that contain them. The index is then used with the ICD-9 tree to return the indices of all rows that contain the leaves corresponding to any node in the tree."
   ]
  },
  {
   "cell_type": "markdown",
   "metadata": {},
   "source": [
    "First, I load the processed discharge records (see CAML repo for method to build notes_labeles.csv from MIMIC III tables."
   ]
  },
  {
   "cell_type": "code",
   "execution_count": 48,
   "metadata": {},
   "outputs": [],
   "source": [
    "file = '../mimicdata/mimic3/notes_labeled.csv'\n",
    "df = pd.read_csv(file)"
   ]
  },
  {
   "cell_type": "markdown",
   "metadata": {},
   "source": [
    "Convert each string of ';' delimited ICD9 codes to set objects."
   ]
  },
  {
   "cell_type": "code",
   "execution_count": 54,
   "metadata": {},
   "outputs": [],
   "source": [
    "df['LABELS'].fillna('', inplace=True)\n",
    "df['LABELS'] = df['LABELS'].str.split(';').apply(set)"
   ]
  },
  {
   "cell_type": "markdown",
   "metadata": {},
   "source": [
    "Build index from ICD9 codes to rows in the dataframe."
   ]
  },
  {
   "cell_type": "code",
   "execution_count": 58,
   "metadata": {},
   "outputs": [],
   "source": [
    "code_to_idx = defaultdict(list)\n",
    "\n",
    "def build_code_to_idx(row):\n",
    "    for code in row.LABELS:\n",
    "        code_to_idx[code].append(row.name)\n",
    "    return row\n",
    "\n",
    "for index, row in df.iterrows():\n",
    "    for code in row.LABELS:\n",
    "        code_to_idx[code].append(index)"
   ]
  },
  {
   "cell_type": "markdown",
   "metadata": {},
   "source": [
    "Finally, define a helper that returns a list of indices for records containing any descendents of any node in the tree. The arguments are the ICD9 tree object and a string with the nodes name from the tree."
   ]
  },
  {
   "cell_type": "code",
   "execution_count": 128,
   "metadata": {},
   "outputs": [],
   "source": [
    "def get_idx_for_node(tree, node):\n",
    "    \"\"\"Gets row idx for records related to node's descendents\"\"\"\n",
    "    idx = set()\n",
    "    root = tree.find(node)\n",
    "    \n",
    "    if root is None:\n",
    "        print(\"Node {} not found.\".format(node))\n",
    "        return None\n",
    "    else:   \n",
    "        for leaf in root.leaves:\n",
    "            idx = idx.union(set(code_to_idx[leaf.code]))\n",
    "    \n",
    "    return list(idx)"
   ]
  }
 ],
 "metadata": {
  "kernelspec": {
   "display_name": "Python (pytt)",
   "language": "python",
   "name": "pytt"
  },
  "language_info": {
   "codemirror_mode": {
    "name": "ipython",
    "version": 3
   },
   "file_extension": ".py",
   "mimetype": "text/x-python",
   "name": "python",
   "nbconvert_exporter": "python",
   "pygments_lexer": "ipython3",
   "version": "3.7.1"
  }
 },
 "nbformat": 4,
 "nbformat_minor": 2
}
